{
 "cells": [
  {
   "cell_type": "code",
   "execution_count": null,
   "metadata": {},
   "outputs": [],
   "source": [
    "import numpy as np\n",
    "import pandas as pd"
   ]
  },
  {
   "cell_type": "code",
   "execution_count": null,
   "metadata": {},
   "outputs": [],
   "source": [
    "# Carregando os dados\n",
    "df_breastcancer = pd.read_csv(\"/content/drive/MyDrive/Colab Notebooks/AM/lista-2/breastcancer.csv\")\n",
    "\n",
    "# Dividindo os dados em características (X) e rótulo (y)\n",
    "X = df_breastcancer.iloc[:, :-1].values  # 30 primeiras colunas são características\n",
    "y = df_breastcancer.iloc[:, -1].values.reshape(-1, 1)  # Última coluna é a saída\n",
    "\n",
    "# Normalizando os dados de entrada\n",
    "X_normalized = (X - X.min(axis=0)) / (X.max(axis=0) - X.min(axis=0))\n"
   ]
  },
  {
   "cell_type": "code",
   "execution_count": null,
   "metadata": {},
   "outputs": [],
   "source": [
    "# Calculando média e desvio padrão\n",
    "def mean_std(values):\n",
    "    return np.mean(values), np.std(values)"
   ]
  },
  {
   "cell_type": "code",
   "execution_count": null,
   "metadata": {},
   "outputs": [],
   "source": [
    "def fit_naive_bayes(X_train, y_train):\n",
    "    classes = np.unique(y_train)\n",
    "    class_priors = {}\n",
    "    means = {}\n",
    "    stds = {}\n",
    "    for c in classes:\n",
    "        X_c = X_train[y_train.ravel() == c]\n",
    "        class_priors[c] = len(X_c) / len(X_train)\n",
    "        means[c] = np.mean(X_c, axis=0)\n",
    "        stds[c] = np.std(X_c, axis=0)\n",
    "\n",
    "    return class_priors, means, stds\n"
   ]
  },
  {
   "cell_type": "code",
   "execution_count": null,
   "metadata": {},
   "outputs": [],
   "source": [
    "def calculate_probability(x, mean, std):\n",
    "    exponent = np.exp(-((x - mean) ** 2) / (2 * (std ** 2)))\n",
    "    return np.prod((1 / (np.sqrt(2 * np.pi) * std)) * exponent)"
   ]
  },
  {
   "cell_type": "code",
   "execution_count": null,
   "metadata": {},
   "outputs": [],
   "source": [
    "def predict_naive_bayes(X_test, class_priors, means, stds):\n",
    "    predictions = []\n",
    "    for x in X_test:\n",
    "        class_probabilities = {}\n",
    "        for c in class_priors:\n",
    "            class_probabilities[c] = class_priors[c] * calculate_probability(x, means[c], stds[c])\n",
    "        predicted_class = max(class_probabilities, key=class_probabilities.get)\n",
    "        predictions.append(predicted_class)\n",
    "\n",
    "    return np.array(predictions)"
   ]
  },
  {
   "cell_type": "code",
   "execution_count": null,
   "metadata": {},
   "outputs": [],
   "source": [
    "def evaluate_model_naive_bayes(X_train, y_train, X_test, y_test):\n",
    "    # Treinando o modelo Naive Bayes\n",
    "    class_priors, means, stds = fit_naive_bayes(X_train, y_train)\n",
    "\n",
    "    # Fazendo previsões no conjunto de teste\n",
    "    y_pred = predict_naive_bayes(X_test, class_priors, means, stds)\n",
    "\n",
    "    # Calculando acurácia global\n",
    "    accuracy = np.mean(y_pred == y_test)\n",
    "\n",
    "    # Calculando a acurácia por classe\n",
    "    class_accuracy_0 = np.mean((y_pred == y_test)[y_test == 0])\n",
    "    class_accuracy_1 = np.mean((y_pred == y_test)[y_test == 1])\n",
    "\n",
    "    return accuracy, class_accuracy_0, class_accuracy_1\n"
   ]
  },
  {
   "cell_type": "code",
   "execution_count": null,
   "metadata": {},
   "outputs": [],
   "source": [
    "# Definindo Hiperparâmetros\n",
    "learning_rate = 0.1\n",
    "iterations = 100\n",
    "n_folds = 10\n",
    "fold_size = len(X) // n_folds\n",
    "\n",
    "# Treinando o modelo Naive Bayes\n",
    "class_priors, means, stds = fit_naive_bayes(X_normalized, y)\n",
    "\n",
    "# Realizando a validação cruzada\n",
    "fold_size = len(X_normalized) // n_folds\n",
    "\n",
    "\n",
    "# Inicializando as listas para armazenar as métricas de avaliação\n",
    "global_accuracy_list_nb = []\n",
    "class_accuracy_0_list_nb = []\n",
    "class_accuracy_1_list_nb = []\n",
    "\n",
    "for i in range(n_folds):\n",
    "    start = i * fold_size\n",
    "    end = (i + 1) * fold_size\n",
    "    X_test = X_normalized[start:end]\n",
    "    y_test = y[start:end].ravel()\n",
    "    X_train = np.concatenate([X_normalized[:start], X_normalized[end:]])\n",
    "    y_train = np.concatenate([y[:start], y[end:]])\n",
    "\n",
    "    accuracy_nb, class_accuracy_0_nb, class_accuracy_1_nb = evaluate_model_naive_bayes(X_train, y_train, X_test, y_test)\n",
    "\n",
    "    global_accuracy_list_nb.append(accuracy_nb)\n",
    "    class_accuracy_0_list_nb.append(class_accuracy_0_nb)\n",
    "    class_accuracy_1_list_nb.append(class_accuracy_1_nb)\n",
    "\n",
    "# Calculando a média e o desvio padrão das métricas de avaliação\n",
    "mean_global_accuracy_nb, std_global_accuracy_nb = mean_std(global_accuracy_list_nb)\n",
    "mean_class_accuracy_0_nb, std_class_accuracy_0_nb = mean_std(class_accuracy_0_list_nb)\n",
    "mean_class_accuracy_1_nb, std_class_accuracy_1_nb = mean_std(class_accuracy_1_list_nb)\n",
    "\n",
    "\n",
    "# Imprimindo os resultados\n",
    "print(\"Naive Bayes:\")\n",
    "print(\"Média da acurácia global:\", mean_global_accuracy_nb)\n",
    "print(\"Desvio padrão da acurácia global:\", std_global_accuracy_nb)\n",
    "print(\"Média da acurácia para classe 0:\", mean_class_accuracy_0_nb)\n",
    "print(\"Desvio padrão da acurácia para classe 0:\", std_class_accuracy_0_nb)\n",
    "print(\"Média da acurácia para classe 1:\", mean_class_accuracy_1_nb)\n",
    "print(\"Desvio padrão da acurácia para classe 1:\", std_class_accuracy_1_nb)"
   ]
  }
 ],
 "metadata": {
  "language_info": {
   "name": "python"
  }
 },
 "nbformat": 4,
 "nbformat_minor": 2
}
