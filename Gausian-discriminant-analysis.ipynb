{
 "cells": [
  {
   "cell_type": "code",
   "execution_count": null,
   "metadata": {},
   "outputs": [],
   "source": [
    "import numpy as np\n",
    "import pandas as pd"
   ]
  },
  {
   "cell_type": "code",
   "execution_count": null,
   "metadata": {},
   "outputs": [],
   "source": [
    "# Carregando os dados\n",
    "df_breastcancer = pd.read_csv(\"/content/drive/MyDrive/Colab Notebooks/AM/lista-2/breastcancer.csv\")\n",
    "\n",
    "# Dividindo os dados em características (X) e rótulo (y)\n",
    "X = df_breastcancer.iloc[:, :-1].values  # 30 primeiras colunas são características\n",
    "y = df_breastcancer.iloc[:, -1].values.reshape(-1, 1)  # Última coluna é a saída\n",
    "\n",
    "# Normalizando os dados de entrada\n",
    "X_normalized = (X - X.min(axis=0)) / (X.max(axis=0) - X.min(axis=0))\n"
   ]
  },
  {
   "cell_type": "code",
   "execution_count": null,
   "metadata": {},
   "outputs": [],
   "source": [
    "# Calculando média e desvio padrão\n",
    "def mean_std(values):\n",
    "    return np.mean(values), np.std(values)"
   ]
  },
  {
   "cell_type": "code",
   "execution_count": null,
   "metadata": {},
   "outputs": [],
   "source": [
    "def gaussian_discriminant_analysis(X_train, y_train):\n",
    "    # Separar os dados por classe\n",
    "    X_pos = X_train[y_train[:, 0] == 1]\n",
    "    X_neg = X_train[y_train[:, 0] == 0]\n",
    "\n",
    "    # Calcular as médias para cada classe\n",
    "    mu_pos = np.mean(X_pos, axis=0)\n",
    "    mu_neg = np.mean(X_neg, axis=0)\n",
    "\n",
    "    # Calcular as matrizes de covariância para cada classe\n",
    "    cov_pos = np.cov(X_pos, rowvar=False)\n",
    "    cov_neg = np.cov(X_neg, rowvar=False)\n",
    "\n",
    "    # Calcular a matriz de covariância comum\n",
    "    cov_shared = (len(X_pos) / len(X_train)) * cov_pos + (len(X_neg) / len(X_train)) * cov_neg\n",
    "\n",
    "    # Calcular os termos constantes para a função discriminante\n",
    "    inv_cov_shared = np.linalg.inv(cov_shared)\n",
    "    det_cov_shared = np.linalg.det(cov_shared)\n",
    "    const_pos = -0.5 * np.log(det_cov_shared) + np.log(len(X_pos) / len(X_train))\n",
    "    const_neg = -0.5 * np.log(det_cov_shared) + np.log(len(X_neg) / len(X_train))\n",
    "\n",
    "    return mu_pos, mu_neg, inv_cov_shared, const_pos, const_neg\n"
   ]
  },
  {
   "cell_type": "code",
   "execution_count": null,
   "metadata": {},
   "outputs": [],
   "source": [
    "def predict_gda(X, mu_pos, mu_neg, inv_cov_shared, const_pos, const_neg):\n",
    "    # Calcular as funções discriminantes para cada classe\n",
    "    g_pos = np.sum((X - mu_pos) @ inv_cov_shared * (X - mu_pos), axis=1) + const_pos\n",
    "    g_neg = np.sum((X - mu_neg) @ inv_cov_shared * (X - mu_neg), axis=1) + const_neg\n",
    "\n",
    "    # Comparar as funções discriminantes e fazer as previsões\n",
    "    y_pred = (g_pos < g_neg).astype(int)\n",
    "\n",
    "    return y_pred"
   ]
  },
  {
   "cell_type": "code",
   "execution_count": null,
   "metadata": {},
   "outputs": [],
   "source": [
    "def evaluate_model_gda(X_train, y_train, X_test, y_test):\n",
    "    # Treinando o modelo GDA\n",
    "    mu_pos, mu_neg, inv_cov_shared, const_pos, const_neg = gaussian_discriminant_analysis(X_train, y_train)\n",
    "\n",
    "    # Fazendo previsões no conjunto de teste\n",
    "    y_pred = predict_gda(X_test, mu_pos, mu_neg, inv_cov_shared, const_pos, const_neg)\n",
    "\n",
    "    # Calculando acurácia global\n",
    "    accuracy = np.mean(y_pred == y_test)\n",
    "\n",
    "    # Calculando a acurácia por classe\n",
    "    class_accuracy_0 = np.mean((y_pred == y_test)[y_test[:, 0] == 0])\n",
    "    class_accuracy_1 = np.mean((y_pred == y_test)[y_test[:, 0] == 1])\n",
    "\n",
    "    return accuracy, class_accuracy_0, class_accuracy_1\n"
   ]
  },
  {
   "cell_type": "code",
   "execution_count": null,
   "metadata": {},
   "outputs": [],
   "source": [
    "# Definindo Hiperparâmetros\n",
    "learning_rate = 0.1\n",
    "iterations = 100\n",
    "n_folds = 10\n",
    "fold_size = len(X) // n_folds\n",
    "\n",
    "# Inicializando as listas para armazenar as métricas de avaliação\n",
    "global_accuracy_list_gda = []\n",
    "class_accuracy_0_list_gda = []\n",
    "class_accuracy_1_list_gda = []\n",
    "\n",
    "\n",
    "# Executando a validação cruzada\n",
    "for i in range(n_folds):\n",
    "    start = i * fold_size\n",
    "    end = (i + 1) * fold_size\n",
    "    X_test = X_normalized[start:end]\n",
    "    y_test = y[start:end]\n",
    "    X_train = np.concatenate([X_normalized[:start], X_normalized[end:]])\n",
    "    y_train = np.concatenate([y[:start], y[end:]])\n",
    "\n",
    "    # Avaliando o modelo\n",
    "    global_accuracy, class_accuracy_0, class_accuracy_1 = evaluate_model_gda(X_train, y_train, X_test, y_test)\n",
    "\n",
    "    # Armazenando as métricas de avaliação\n",
    "    global_accuracy_list_gda.append(global_accuracy)\n",
    "    class_accuracy_0_list_gda.append(class_accuracy_0)\n",
    "    class_accuracy_1_list_gda.append(class_accuracy_1)\n",
    "\n",
    "# Calculando a média e o desvio padrão das métricas de avaliação\n",
    "mean_global_accuracy_gda, std_global_accuracy_gda = mean_std(global_accuracy_list_gda)\n",
    "mean_class_accuracy_0_gda, std_class_accuracy_0_gda = mean_std(class_accuracy_0_list_gda)\n",
    "mean_class_accuracy_1_gda, std_class_accuracy_1_gda = mean_std(class_accuracy_1_list_gda)\n",
    "\n",
    "# Imprimindo os resultados\n",
    "print(\"Análise do discriminante Gaussiano:\")\n",
    "print(\"Média da acurácia global:\", mean_global_accuracy_gda)\n",
    "print(\"Desvio padrão da acurácia global:\", std_global_accuracy_gda)\n",
    "print(\"Média da acurácia para classe 0:\", mean_class_accuracy_0_gda)\n",
    "print(\"Desvio padrão da acurácia para classe 0:\", std_class_accuracy_0_gda)\n",
    "print(\"Média da acurácia para classe 1:\", mean_class_accuracy_1_gda)\n",
    "print(\"Desvio padrão da acurácia para classe 1:\", std_class_accuracy_1_gda)"
   ]
  }
 ],
 "metadata": {
  "language_info": {
   "name": "python"
  }
 },
 "nbformat": 4,
 "nbformat_minor": 2
}
