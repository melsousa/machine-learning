{
 "cells": [
  {
   "cell_type": "code",
   "execution_count": null,
   "metadata": {},
   "outputs": [],
   "source": [
    "import numpy as np\n",
    "import pandas as pd"
   ]
  },
  {
   "cell_type": "code",
   "execution_count": null,
   "metadata": {},
   "outputs": [],
   "source": [
    "# Carregando os dados\n",
    "df_breastcancer = pd.read_csv(\"breastcancer.csv\")\n",
    "\n",
    "# Dividindo os dados em características (X) e rótulo (y)\n",
    "X = df_breastcancer.iloc[:, :-1].values  # 30 primeiras colunas são características\n",
    "y = df_breastcancer.iloc[:, -1].values.reshape(-1, 1)  # Última coluna é a saída\n",
    "\n",
    "# Normalizando os dados de entrada\n",
    "X_normalized = (X - X.min(axis=0)) / (X.max(axis=0) - X.min(axis=0))\n"
   ]
  },
  {
   "cell_type": "code",
   "execution_count": null,
   "metadata": {},
   "outputs": [],
   "source": [
    "# Calculando média e desvio padrão\n",
    "def mean_std(values):\n",
    "    return np.mean(values), np.std(values)\n",
    "\n",
    "# Função de ativação sigmoidal\n",
    "def sigmoid(z):\n",
    "    return 1 / (1 + np.exp(-z))\n",
    "\n",
    "# Calculando as previsões\n",
    "def predict(X, weights, bias):\n",
    "    z = np.dot(X, weights) + bias\n",
    "    return sigmoid(z)"
   ]
  },
  {
   "cell_type": "markdown",
   "metadata": {},
   "source": [
    "## Gradient Descent"
   ]
  },
  {
   "cell_type": "code",
   "execution_count": null,
   "metadata": {},
   "outputs": [],
   "source": [
    "# Implementando o modelo gd\n",
    "def gradient_descent(X, y, weights, bias, learning_rate, iterations):\n",
    "    n = float(len(X))\n",
    "\n",
    "    for i in range(iterations):\n",
    "        y_pred = predict(X, weights, bias)\n",
    "        error = y - y_pred\n",
    "        gradient_weights = -np.dot(X.T, error) / n\n",
    "        gradient_bias = -np.mean(error)\n",
    "        weights -= learning_rate * gradient_weights\n",
    "        bias -= learning_rate * gradient_bias\n",
    "\n",
    "    return weights, bias"
   ]
  },
  {
   "cell_type": "markdown",
   "metadata": {},
   "source": [
    "## Stochastic Gradient Descent"
   ]
  },
  {
   "cell_type": "code",
   "execution_count": null,
   "metadata": {},
   "outputs": [],
   "source": [
    "def stochastic_gradient_descent(X, y, weights, bias, learning_rate):\n",
    "    n = float(len(X))\n",
    "    for i in range(len(X)):\n",
    "        x_i = X[i]\n",
    "        y_i = y[i]\n",
    "        y_pred = predict(x_i, weights, bias)\n",
    "        error = y_i - y_pred\n",
    "        gradient_weights = -x_i.reshape(-1,1) * error\n",
    "        gradient_bias = -error\n",
    "        weights -= learning_rate * gradient_weights\n",
    "        bias -= learning_rate * gradient_bias\n",
    "    return weights, bias\n"
   ]
  },
  {
   "cell_type": "code",
   "execution_count": null,
   "metadata": {},
   "outputs": [],
   "source": [
    "# Função para Avaliação do Modelo\n",
    "def evaluate_model(X_train, y_train, X_test, y_test, learning_rate, iterations, optimizer):\n",
    "    # Inicializando os pesos e o viés\n",
    "    weights = np.zeros(X_train.shape[1]).reshape(-1,1)\n",
    "    bias = 0.0\n",
    "\n",
    "    # Selecionando o algoritmo de otimização\n",
    "    if optimizer == 'gd':\n",
    "        weights, bias = gradient_descent(X_train, y_train, weights, bias, learning_rate, iterations)\n",
    "    elif optimizer == 'sgd':\n",
    "        weights, bias = stochastic_gradient_descent(X_train, y_train, weights, bias, learning_rate)\n",
    "\n",
    "    # Fazendo previsões no conjunto de teste\n",
    "    y_pred = predict(X_test, weights, bias)\n",
    "    y_pred_binary = np.round(y_pred)\n",
    "\n",
    "    # Calculando acurácia global\n",
    "    accuracy = np.mean(y_pred_binary == y_test)\n",
    "\n",
    "    # Calculando a acurácia por classe\n",
    "    class_accuracy_0 = np.mean((y_pred_binary == y_test)[y_test == 0])\n",
    "    class_accuracy_1 = np.mean((y_pred_binary == y_test)[y_test == 1])\n",
    "\n",
    "    return accuracy, class_accuracy_0, class_accuracy_1"
   ]
  },
  {
   "cell_type": "code",
   "execution_count": null,
   "metadata": {},
   "outputs": [],
   "source": [
    "# Definindo Hiperparâmetros\n",
    "learning_rate = 0.1\n",
    "iterations = 100\n",
    "n_folds = 10\n",
    "fold_size = len(X) // n_folds\n",
    "\n",
    "# Avaliação do Modelo usando Gradient Descent\n",
    "global_accuracy_list_gd = []\n",
    "class_accuracy_0_list_gd = []\n",
    "class_accuracy_1_list_gd = []\n",
    "\n",
    "# Avaliação do Modelo usando Stochastic Gradient Descent\n",
    "global_accuracy_list_sgd = []\n",
    "class_accuracy_0_list_sgd = []\n",
    "class_accuracy_1_list_sgd = []\n",
    "\n",
    "for i in range(n_folds):\n",
    "    start = i * fold_size\n",
    "    end = (i + 1) * fold_size\n",
    "    X_test = X_normalized[start:end]\n",
    "    y_test = y[start:end]\n",
    "    X_train = np.concatenate([X_normalized[:start], X_normalized[end:]])\n",
    "    y_train = np.concatenate([y[:start], y[end:]])\n",
    "\n",
    "    # Avaliando o modelo com Gradient Descent\n",
    "    global_accuracy_gd, class_accuracy_0_gd, class_accuracy_1_gd = evaluate_model(X_train, y_train, X_test, y_test, learning_rate, iterations, optimizer='gd')\n",
    "\n",
    "    # Armazenando as métricas de avaliação do GD\n",
    "    global_accuracy_list_gd.append(global_accuracy_gd)\n",
    "    class_accuracy_0_list_gd.append(class_accuracy_0_gd)\n",
    "    class_accuracy_1_list_gd.append(class_accuracy_1_gd)\n",
    "\n",
    "    # Avaliando o modelo com Stochastic Gradient Descent\n",
    "    global_accuracy_sgd, class_accuracy_0_sgd, class_accuracy_1_sgd = evaluate_model(X_train, y_train, X_test, y_test, learning_rate, iterations, optimizer='sgd')\n",
    "\n",
    "    # Armazenando as métricas de avaliação do SGD\n",
    "    global_accuracy_list_sgd.append(global_accuracy_sgd)\n",
    "    class_accuracy_0_list_sgd.append(class_accuracy_0_sgd)\n",
    "    class_accuracy_1_list_sgd.append(class_accuracy_1_sgd)\n",
    "\n"
   ]
  },
  {
   "cell_type": "code",
   "execution_count": null,
   "metadata": {},
   "outputs": [],
   "source": [
    "# Calculando as métricas de Gradient Descent\n",
    "mean_global_accuracy_gd, std_global_accuracy_gd = np.mean(global_accuracy_list_gd), np.std(global_accuracy_list_gd)\n",
    "mean_class_accuracy_0_gd, std_class_accuracy_0_gd = np.mean(class_accuracy_0_list_gd), np.std(class_accuracy_0_list_gd)\n",
    "mean_class_accuracy_1_gd, std_class_accuracy_1_gd = np.mean(class_accuracy_1_list_gd), np.std(class_accuracy_1_list_gd)\n",
    "\n",
    "# Imprimindo os resultados do Gradient Descent\n",
    "print(\"Gradient Descent:\")\n",
    "print(\"Média da acurácia global:\", mean_global_accuracy_gd)\n",
    "print(\"Desvio padrão da acurácia global:\", std_global_accuracy_gd)\n",
    "print(\"Média da acurácia para classe 0:\", mean_class_accuracy_0_gd)\n",
    "print(\"Desvio padrão da acurácia para classe 0:\", std_class_accuracy_0_gd)\n",
    "print(\"Média da acurácia para classe 1:\", mean_class_accuracy_1_gd)\n",
    "print(\"Desvio padrão da acurácia para classe 1:\", std_class_accuracy_1_gd)\n"
   ]
  },
  {
   "cell_type": "code",
   "execution_count": null,
   "metadata": {},
   "outputs": [],
   "source": [
    "# Calculando as métricas de Stochastic Gradient Descent\n",
    "mean_global_accuracy_sgd, std_global_accuracy_sgd = np.mean(global_accuracy_list_sgd), np.std(global_accuracy_list_sgd)\n",
    "mean_class_accuracy_0_sgd, std_class_accuracy_0_sgd = np.mean(class_accuracy_0_list_sgd), np.std(class_accuracy_0_list_sgd)\n",
    "mean_class_accuracy_1_sgd, std_class_accuracy_1_sgd = np.mean(class_accuracy_1_list_sgd), np.std(class_accuracy_1_list_sgd)\n",
    "\n",
    "# Imprimindo os resultados do Stochastic Gradient Descent\n",
    "print(\"Stochastic Gradient Descent:\")\n",
    "print(\"Média da acurácia global:\", mean_global_accuracy_sgd)\n",
    "print(\"Desvio padrão da acurácia global:\", std_global_accuracy_sgd)\n",
    "print(\"Média da acurácia para classe 0:\", mean_class_accuracy_0_sgd)\n",
    "print(\"Desvio padrão da acurácia para classe 0:\", std_class_accuracy_0_sgd)\n",
    "print(\"Média da acurácia para classe 1:\", mean_class_accuracy_1_sgd)\n",
    "print(\"Desvio padrão da acurácia para classe 1:\", std_class_accuracy_1_sgd)"
   ]
  }
 ],
 "metadata": {
  "language_info": {
   "name": "python"
  }
 },
 "nbformat": 4,
 "nbformat_minor": 2
}
